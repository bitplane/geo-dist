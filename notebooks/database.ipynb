{
 "cells": [
  {
   "cell_type": "code",
   "execution_count": null,
   "metadata": {},
   "outputs": [],
   "source": [
    "from sqlalchemy import create_engine\n",
    "from sqlalchemy.orm import sessionmaker\n",
    "\n",
    "from geo_dist_prep.data import GEONAMES_DB\n",
    "from geo_dist_prep.schemas.geoname import GeoName\n",
    "\n",
    "engine = create_engine(f\"sqlite:///../{GEONAMES_DB}\")\n",
    "\n",
    "Session = sessionmaker(bind=engine)\n",
    "session = Session()\n"
   ]
  },
  {
   "cell_type": "code",
   "execution_count": null,
   "metadata": {},
   "outputs": [],
   "source": [
    "import pandas as pd\n",
    "\n",
    "from sqlalchemy.sql import and_, select\n",
    "from sqlalchemy import func, bindparam, Integer, text, Float, union_all\n",
    "import matplotlib.pyplot as plt\n",
    "\n",
    "from geo_dist_prep.schemas.helpers import *\n",
    "\n",
    "southport = 26700924\n",
    "lon, lat = -3.004175, 53.647599\n",
    "\n",
    "\n",
    "queries = []\n",
    "for dist in (10, 20, 40, 80, 160, 320):\n",
    "    query = (\n",
    "        session.query(GeoName)\n",
    "        .filter(GeoName.score >= dist/10, nearby(lat, lon, dist))\n",
    "        .order_by(func.random())\n",
    "        .limit(5)\n",
    "    )\n",
    "\n",
    "    q = query.statement.compile()\n",
    "    df = pd.read_sql_query(q, session.bind)\n",
    "    plt.scatter(df.lon, df.lat)\n"
   ]
  },
  {
   "cell_type": "code",
   "execution_count": null,
   "metadata": {},
   "outputs": [],
   "source": [
    "query =union_all(\n",
    "    session.query(GeoName).filter(GeoName.country_code == \"uk\"),\n",
    "    session.query(GeoName).filter(GeoName.country_code == \"ie\")\n",
    ")\n",
    "\n",
    "q = query.compile()\n",
    "df = pd.read_sql_query(q, session.bind)\n",
    "\n",
    "df"
   ]
  }
 ],
 "metadata": {
  "kernelspec": {
   "display_name": ".venv",
   "language": "python",
   "name": "python3"
  },
  "language_info": {
   "codemirror_mode": {
    "name": "ipython",
    "version": 3
   },
   "file_extension": ".py",
   "mimetype": "text/x-python",
   "name": "python",
   "nbconvert_exporter": "python",
   "pygments_lexer": "ipython3"
  }
 },
 "nbformat": 4,
 "nbformat_minor": 2
}
