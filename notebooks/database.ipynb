{
 "cells": [
  {
   "cell_type": "code",
   "execution_count": null,
   "metadata": {},
   "outputs": [],
   "source": [
    "from sqlalchemy import create_engine\n",
    "from sqlalchemy.orm import sessionmaker\n",
    "\n",
    "from geo_dist_prep.data import GEONAMES_DB\n",
    "from geo_dist_prep.schemas.geoname import GeoName\n",
    "from geo_dist_prep.schemas.geoname_pair import GeoNamePair\n",
    "from geo_dist_prep.schemas.job import GeoNamePairJob\n",
    "\n",
    "engine = create_engine(f\"sqlite:///../{GEONAMES_DB}\")\n",
    "\n",
    "Session = sessionmaker(bind=engine)\n",
    "session = Session()\n"
   ]
  },
  {
   "cell_type": "code",
   "execution_count": null,
   "metadata": {},
   "outputs": [],
   "source": [
    "import pandas as pd\n",
    "\n",
    "from sqlalchemy.sql import and_, select\n",
    "from sqlalchemy import func, bindparam, Integer, text, Float, union_all\n",
    "import matplotlib.pyplot as plt\n",
    "\n",
    "from geo_dist_prep.schemas.helpers import *\n",
    "from geo_dist_prep.schemas.job import Job, GeoNamePairJob\n",
    "\n",
    "\n",
    "\n",
    "southport = 26700924\n",
    "lon, lat = -3.004175, 53.647599\n",
    "\n",
    "#query = session.query(GeoName, GeoNamePair).join(GeoNamePair, GeoName.osm_id == GeoNamePair.start_id).filter(GeoName.score > 32)\n",
    "query = session.query(GeoName).filter(GeoName.country_code == 'at')\n",
    "q = query.statement.compile()\n",
    "\n",
    "df = pd.read_sql_query(q, session.bind)\n",
    "print(len(df))\n",
    "plt.scatter(df[\"lon\"], df[\"lat\"], s=1)"
   ]
  },
  {
   "cell_type": "code",
   "execution_count": null,
   "metadata": {},
   "outputs": [],
   "source": [
    "query =union_all(\n",
    "    session.query(GeoName).filter(GeoName.country_code == \"uk\"),\n",
    "    session.query(GeoName).filter(GeoName.country_code == \"ie\")\n",
    ")\n",
    "\n",
    "q = query.compile()\n",
    "df = pd.read_sql_query(q, session.bind)\n",
    "\n",
    "df\n"
   ]
  },
  {
   "cell_type": "code",
   "execution_count": null,
   "metadata": {},
   "outputs": [],
   "source": []
  }
 ],
 "metadata": {
  "kernelspec": {
   "display_name": ".venv",
   "language": "python",
   "name": "python3"
  },
  "language_info": {
   "codemirror_mode": {
    "name": "ipython",
    "version": 3
   },
   "file_extension": ".py",
   "mimetype": "text/x-python",
   "name": "python",
   "nbconvert_exporter": "python",
   "pygments_lexer": "ipython3"
  }
 },
 "nbformat": 4,
 "nbformat_minor": 2
}
