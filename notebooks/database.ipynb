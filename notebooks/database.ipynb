{
 "cells": [
  {
   "cell_type": "code",
   "execution_count": null,
   "metadata": {},
   "outputs": [],
   "source": [
    "from sqlalchemy import create_engine\n",
    "from sqlalchemy.orm import sessionmaker\n",
    "\n",
    "from geo_dist_prep.data import GEONAMES_DB\n",
    "from geo_dist_prep.schemas.geoname import GeoName\n",
    "\n",
    "engine = create_engine(f\"sqlite:///../{GEONAMES_DB}\")\n",
    "\n",
    "Session = sessionmaker(bind=engine)\n",
    "session = Session()\n"
   ]
  },
  {
   "cell_type": "code",
   "execution_count": null,
   "metadata": {},
   "outputs": [],
   "source": [
    "import pandas as pd\n",
    "\n",
    "from sqlalchemy.sql import and_, select\n",
    "from sqlalchemy import func, bindparam, Integer, text, Float\n",
    "\n",
    "from geo_dist_prep.schemas.helpers import *\n",
    "\n",
    "southport = 26700924\n",
    "lon, lat = -3.004175, 53.647599\n",
    "#lon, lat = -3.048624, 53.603828\n",
    "\n",
    "dist = 100\n",
    "\n",
    "# # get all places within 4km of southport\n",
    "nearby_places = (\n",
    "     session.query(GeoName)\n",
    "     .filter(nearby(lat, lon, dist))\n",
    "     .add_columns(distance(GeoName.lat, GeoName.lon, lat, lon))\n",
    "     .add_columns(grid_coord(GeoName, 1).label(\"grid_coord\"))\n",
    "     .order_by(distance(GeoName.lat, GeoName.lon, lat, lon))\n",
    ")\n",
    "\n",
    "q = nearby_places.statement.compile()\n",
    "df = pd.read_sql_query(q, session.bind)\n",
    "\n",
    "df\n",
    "\n"
   ]
  },
  {
   "cell_type": "code",
   "execution_count": null,
   "metadata": {},
   "outputs": [],
   "source": [
    "import matplotlib.pyplot as plt\n",
    "\n",
    "dist = 350\n",
    "grid_size = 32\n",
    "\n",
    "\n",
    "nearby_places = (\n",
    "     session.query(GeoName)\n",
    "     .filter(nearby(lat, lon, dist))\n",
    "     .add_columns(distance(GeoName.lat, GeoName.lon, lat, lon))\n",
    "     .add_columns(grid_coord(GeoName, grid_size).label(\"grid_coord\"))\n",
    "     .order_by(distance(GeoName.lat, GeoName.lon, lat, lon))\n",
    ")\n",
    "\n",
    "q = nearby_places.statement.compile()\n",
    "df = pd.read_sql_query(q, session.bind)\n",
    "\n",
    "plt.scatter(df.lon, df.lat, s=1, color='blue')\n",
    "plt.xlim(min(df.lon), max(df.lon))\n",
    "plt.ylim(min(df.lat), max(df.lat))\n",
    "\n",
    "grid_column = grid_coord(GeoName, grid_size).label('grid_coord')\n",
    "distinct_by_grid = nearby_places.order_by(GeoName.place_rank + 1 / func.random()).group_by('grid_coord').distinct()\n",
    "q = distinct_by_grid.statement.compile()\n",
    "df2 = pd.read_sql_query(q, session.bind)\n",
    "\n",
    "plt.scatter(df2.lon, df2.lat, s=2, color='red')\n",
    "df2"
   ]
  },
  {
   "cell_type": "code",
   "execution_count": null,
   "metadata": {},
   "outputs": [],
   "source": [
    "from sqlalchemy import update\n",
    "\n",
    "for grid_size in (16, 32):\n",
    "    grid_column = grid_coord(GeoName, grid_size).label('grid_coord')\n",
    "    table_plus_grid = session.query(GeoName).add_columns(grid_column)\n",
    "    by_importance = table_plus_grid.order_by(GeoName.importance)\n",
    "    distinct = by_importance.group_by('grid_coord').distinct().subquery()\n",
    "\n",
    "    update_stmt = (\n",
    "        update(GeoName).values(tree_depth=grid_size)\n",
    "        .where(GeoName.osm_id == distinct.c.osm_id)\n",
    "    )\n",
    "\n",
    "session.execute(update_stmt)"
   ]
  }
 ],
 "metadata": {
  "kernelspec": {
   "display_name": ".venv",
   "language": "python",
   "name": "python3"
  },
  "language_info": {
   "name": "python"
  }
 },
 "nbformat": 4,
 "nbformat_minor": 2
}
