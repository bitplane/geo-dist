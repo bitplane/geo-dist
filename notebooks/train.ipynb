{
 "cells": [
  {
   "cell_type": "code",
   "execution_count": null,
   "metadata": {},
   "outputs": [],
   "source": [
    "import pandas as pd\n",
    "\n",
    "from keras.models import Sequential\n",
    "from keras.layers import Dense\n",
    "\n",
    "# Read TSV file and extract lines\n",
    "all_data = pd.read_csv('../.cache/train.tsv', sep='\\t', low_memory=False)\n",
    "print(f\"{len(all_data)} rows loaded\")\n",
    "\n",
    "all_data.head()"
   ]
  },
  {
   "cell_type": "code",
   "execution_count": null,
   "metadata": {},
   "outputs": [],
   "source": [
    "import matplotlib.pyplot as plt\n",
    "\n",
    "shuff = all_data.head(1000)\n",
    "print(len(shuff))\n",
    "\n",
    "for _, row in shuff.iterrows():\n",
    "    plt.plot([row['lon1'], row['lon2']], [row['lat1'], row['lat2']])\n",
    "\n",
    "plt.xlim()\n",
    "plt.xlabel('X')\n",
    "plt.ylabel('Y')\n",
    "plt.title('Lines from DataFrame')\n",
    "plt.show()"
   ]
  },
  {
   "cell_type": "code",
   "execution_count": null,
   "metadata": {},
   "outputs": [],
   "source": [
    "features = [\n",
    "    'lat1', 'lon1',\n",
    "    'lat2', 'lon2',\n",
    "    'angle'\n",
    "]\n",
    "input_shape = len(features)\n",
    "predictions = [\n",
    "    'by_road',\n",
    "    'by_air'\n",
    "]\n",
    "output_shape = len(predictions)\n",
    "\n",
    "model = Sequential([\n",
    "    Dense(128, activation='relu', input_shape=(input_shape,)),\n",
    "    Dense(64, activation='relu'),\n",
    "    Dense(64, activation='relu'),\n",
    "    Dense(64, activation='relu'),\n",
    "    Dense(64, activation='relu'),\n",
    "    Dense(output_shape, activation='linear')\n",
    "])\n",
    "\n",
    "model.compile(optimizer='adam', loss='mse')\n",
    "\n",
    "# Split data into training and validation sets\n",
    "train = all_data.sample(frac=0.8, random_state=0)\n",
    "val = all_data.drop(train.index)\n",
    "\n",
    "# Split data into features and labels\n",
    "train_x = train[features]\n",
    "train_y = train[predictions]\n",
    "val_x = val[features]\n",
    "val_y = val[predictions]\n",
    "\n",
    "# Train model\n",
    "model.fit(train_x, train_y, epochs=5, validation_data=(val_x, val_y))\n",
    "\n",
    "# Evaluate model\n",
    "model.evaluate(val_x, val_y)\n",
    "\n",
    "# Save model\n",
    "model.save('../.cache/model.h5')\n"
   ]
  }
 ],
 "metadata": {
  "kernelspec": {
   "display_name": ".venv",
   "language": "python",
   "name": "python3"
  },
  "language_info": {
   "codemirror_mode": {
    "name": "ipython",
    "version": 3
   },
   "file_extension": ".py",
   "mimetype": "text/x-python",
   "name": "python",
   "nbconvert_exporter": "python",
   "pygments_lexer": "ipython3"
  }
 },
 "nbformat": 4,
 "nbformat_minor": 2
}
