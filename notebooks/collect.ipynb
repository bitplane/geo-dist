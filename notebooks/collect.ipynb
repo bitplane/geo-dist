{
 "cells": [
  {
   "cell_type": "code",
   "execution_count": null,
   "metadata": {},
   "outputs": [],
   "source": [
    "import httpx\n",
    "import csv\n",
    "\n",
    "client = httpx.Client(http2=True)\n",
    "url = 'http://localhost:8080/ors/v2/directions/driving-car'\n",
    "\n",
    "#{'start': '-3.0733954,54.1619118', 'end': '-3.0635137,54.2194346'}\n",
    "\n",
    "reader = csv.DictReader(\n",
    "    open(\"../.cache/data.tsv\", \"rt\"),\n",
    "    delimiter=\"\\t\"\n",
    ")\n",
    "\n",
    "for row in reader:\n",
    "    params = {\n",
    "        \"start\": row[\"start\"],\n",
    "        \"end\": row[\"end\"]\n",
    "    }\n",
    "    response = client.get(url, params=params).json()\n",
    "    \n",
    "\n",
    "print(response[\"features\"][0][\"properties\"][\"summary\"][\"distance\"])\n",
    "\n",
    "client.close()"
   ]
  }
 ],
 "metadata": {
  "kernelspec": {
   "display_name": ".venv",
   "language": "python",
   "name": "python3"
  },
  "language_info": {
   "codemirror_mode": {
    "name": "ipython",
    "version": 3
   },
   "file_extension": ".py",
   "mimetype": "text/x-python",
   "name": "python",
   "nbconvert_exporter": "python",
   "pygments_lexer": "ipython3"
  }
 },
 "nbformat": 4,
 "nbformat_minor": 2
}
