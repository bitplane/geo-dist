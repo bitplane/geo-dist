{
 "cells": [
  {
   "cell_type": "code",
   "execution_count": null,
   "metadata": {},
   "outputs": [],
   "source": [
    "!pip install matplotlib"
   ]
  },
  {
   "cell_type": "code",
   "execution_count": null,
   "metadata": {},
   "outputs": [],
   "source": [
    "import pickle\n",
    "from geo_dist_prep.geotree.data import TREE_FILE\n",
    "\n",
    "tree = pickle.load(open(\"../\" + TREE_FILE, \"rb\"))"
   ]
  },
  {
   "cell_type": "code",
   "execution_count": null,
   "metadata": {},
   "outputs": [],
   "source": [
    "import matplotlib.pyplot as plt\n",
    "import matplotlib.patches as patches\n",
    "\n",
    "def compute_dimensions(node):\n",
    "    \"\"\"\n",
    "    Compute the dimensions of a node's bounding box.\n",
    "    \"\"\"\n",
    "    # If the node is a leaf, it has no dimensions\n",
    "    if node.is_leaf or not any(node.nodes):\n",
    "        return node.x*360, node.y*180, 0.01, 0.01\n",
    "\n",
    "    x = min(node.x for node in node.nodes if node)\n",
    "    y = min(node.y for node in node.nodes if node)\n",
    "    width = max(node.x for node in node.nodes if node) - x\n",
    "    height = max(node.y for node in node.nodes if node) - y\n",
    "\n",
    "    return x*360, y*180, width*360, height*180\n",
    "\n",
    "max_depth = 20\n",
    "min_depth = 25\n",
    "x1, x2 = [200, 210]\n",
    "y1, y2 = [140, 150]\n",
    "\n",
    "def plot_node(node, ax, depth=0):\n",
    "    if depth > max_depth:\n",
    "        return\n",
    "\n",
    "    if depth > min_depth or node.value:\n",
    "        x, y, width, height = compute_dimensions(node)\n",
    "\n",
    "        if x < x1 and x+width < x1 or x > x2 \\\n",
    "            or y < y1 and y+height < y1 or y > y2:\n",
    "            return\n",
    "        \n",
    "        col = 'r' if node.is_leaf else 'b'\n",
    "\n",
    "        if node.value:\n",
    "            col = 'g'\n",
    "\n",
    "        # Create a rectangle patch\n",
    "        rect = patches.Rectangle((x, y), width, height, \n",
    "                                linewidth=1, edgecolor=col, facecolor=col, \n",
    "                                alpha=(depth / 8) / 4)\n",
    "\n",
    "        # Add the patch to the Axes\n",
    "        ax.add_patch(rect)\n",
    "\n",
    "    depth += 1\n",
    "    # If the node has children, plot them as well\n",
    "    if not node.is_leaf:\n",
    "        for child in node.nodes:\n",
    "            if child:\n",
    "                plot_node(child, ax, depth)\n",
    "\n",
    "fig, ax = plt.subplots(1)\n",
    "\n",
    "plt.xlim(x1, x2)\n",
    "plt.ylim(y1, y2)\n",
    "plot_node(tree.root, ax)\n",
    "plt.show()"
   ]
  }
 ],
 "metadata": {
  "kernelspec": {
   "display_name": ".venv",
   "language": "python",
   "name": "python3"
  },
  "language_info": {
   "codemirror_mode": {
    "name": "ipython",
    "version": 3
   },
   "file_extension": ".py",
   "mimetype": "text/x-python",
   "name": "python",
   "nbconvert_exporter": "python",
   "pygments_lexer": "ipython3"
  }
 },
 "nbformat": 4,
 "nbformat_minor": 2
}
