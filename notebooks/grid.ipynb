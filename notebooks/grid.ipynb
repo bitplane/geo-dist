{
 "cells": [
  {
   "cell_type": "code",
   "execution_count": null,
   "metadata": {},
   "outputs": [],
   "source": [
    "from geo_dist_prep.data.populate_tree import populate_tree\n",
    "\n",
    "globe = populate_tree('..')"
   ]
  },
  {
   "cell_type": "code",
   "execution_count": null,
   "metadata": {},
   "outputs": [],
   "source": [
    "from geo_dist_prep.tree.globe import Globe\n",
    "\n",
    "\n",
    "southport = 26700924\n",
    "lat1, lon1 = 53.647599, -3.004175  # southport\n",
    "\n",
    "newglobe = Globe()\n",
    "address = list(newglobe.get_address(lat1, lon1))\n",
    "\n",
    "# print(address)\n",
    "# current = newglobe\n",
    "# for pos in address:\n",
    "#     current = current.add_child(pos)\n",
    "\n",
    "southport = globe.find(address)"
   ]
  },
  {
   "cell_type": "code",
   "execution_count": null,
   "metadata": {},
   "outputs": [],
   "source": [
    "region = southport.parent.parent.parent\n",
    "region.parent.plot(depth=2)\n",
    "region.plot()\n",
    "#region.neighbours[1].plot(colour='red')\n",
    "#print('siblings:', region.parent.children)\n",
    "#print('neighbours:', region.neighbours)\n",
    "#print('parent neighbours:', region.parent.neighbours)\n",
    "#southport.parent.parent.neighbours[1].plot(colour='red')\n",
    "#southport.parent.width * 113.5\n",
    "\n",
    "address = (int(i) for i in ('0/3/3/2/0/0/2/1' '/-3/-3/-1/0/2').split('/'))\n",
    "address = (int(i) for i in ('0/3/3/2/0/3/0/2/-0').split('/')) \n",
    "#right_region = globe.find(address)\n",
    "#right_region.plot(depth=3, colour='red')\n",
    "\n",
    "print(\"region:\", repr(region))\n",
    "#print(\"right region neightbours:\", right_region.neighbours)\n",
    "#"
   ]
  },
  {
   "cell_type": "code",
   "execution_count": null,
   "metadata": {},
   "outputs": [],
   "source": [
    "southport.parent.parent.parent.parent.plot()"
   ]
  },
  {
   "cell_type": "code",
   "execution_count": null,
   "metadata": {},
   "outputs": [],
   "source": []
  }
 ],
 "metadata": {
  "kernelspec": {
   "display_name": ".venv",
   "language": "python",
   "name": "python3"
  },
  "language_info": {
   "codemirror_mode": {
    "name": "ipython",
    "version": 3
   },
   "file_extension": ".py",
   "mimetype": "text/x-python",
   "name": "python",
   "nbconvert_exporter": "python",
   "pygments_lexer": "ipython3"
  }
 },
 "nbformat": 4,
 "nbformat_minor": 2
}
