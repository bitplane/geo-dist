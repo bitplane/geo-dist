{
 "cells": [
  {
   "cell_type": "code",
   "execution_count": null,
   "metadata": {},
   "outputs": [],
   "source": [
    "from geo_dist_prep.data.populate_tree import populate_tree\n",
    "\n",
    "globe = populate_tree('..')"
   ]
  },
  {
   "cell_type": "code",
   "execution_count": null,
   "metadata": {},
   "outputs": [],
   "source": [
    "from geo_dist_prep.tree.globe import Globe\n",
    "\n",
    "\n",
    "southport = 26700924\n",
    "lat1, lon1 = 53.647599, -3.004175  # southport\n",
    "\n",
    "newglobe = Globe()\n",
    "address = list(newglobe.get_address(-3.004175, 53.647599))\n",
    "\n",
    "print(address)\n",
    "current = newglobe\n",
    "for pos in address:\n",
    "    current = current.add_child(pos)\n",
    "\n",
    "globe.find(address)\n"
   ]
  },
  {
   "cell_type": "code",
   "execution_count": null,
   "metadata": {},
   "outputs": [],
   "source": []
  },
  {
   "cell_type": "code",
   "execution_count": null,
   "metadata": {},
   "outputs": [],
   "source": [
    "newglobe.children[10].plot()"
   ]
  },
  {
   "cell_type": "code",
   "execution_count": null,
   "metadata": {},
   "outputs": [],
   "source": []
  }
 ],
 "metadata": {
  "kernelspec": {
   "display_name": ".venv",
   "language": "python",
   "name": "python3"
  },
  "language_info": {
   "codemirror_mode": {
    "name": "ipython",
    "version": 3
   },
   "file_extension": ".py",
   "mimetype": "text/x-python",
   "name": "python",
   "nbconvert_exporter": "python",
   "pygments_lexer": "ipython3"
  }
 },
 "nbformat": 4,
 "nbformat_minor": 2
}
